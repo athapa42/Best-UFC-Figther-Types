{
 "cells": [
  {
   "cell_type": "markdown",
   "metadata": {},
   "source": [
    "# Introduction"
   ]
  },
  {
   "cell_type": "markdown",
   "metadata": {},
   "source": [
    "Ultimate Fighting Championship is a mixed martial arts organization. It allows fighters of different styles and different background to fight with standard mixed martial arts rules. They were formed in 1993 when fighting against different style of fighters was very rare and so most people only watched fight in events like boxing's pay-per-view or with the olympics where all of these styles compete. \n",
    "\n",
    "Today UFC is being \"broadcast in over 165 countries and territories, via more than 60 global broadcast partners, to more than 1.1 billion TV households worldwide in over 40 different languages\". UFC has grown into a massive company with pay-per-view events every few weeks and lots of fighter wanting to join it. \n",
    "\n",
    "Here, we have looked at the fighters and various things about them. We look at their style and see if they lean more towards striking or grappling and how does their defense look against both of these styles. We also look at the stance that they used. Finally we try to see which weight classes the fighters are fighting in."
   ]
  },
  {
   "cell_type": "markdown",
   "metadata": {},
   "source": [
    "# Libraries"
   ]
  },
  {
   "cell_type": "code",
   "execution_count": 2,
   "metadata": {},
   "outputs": [],
   "source": [
    "import pandas as pd\n",
    "import matplotlib.pyplot as plt\n",
    "import seaborn as sns\n",
    "import numpy as np\n",
    "from scipy import stats"
   ]
  },
  {
   "cell_type": "markdown",
   "metadata": {},
   "source": [
    "Pandas: Used to edit and create different dataframes <br>\n",
    "Matplotlib: Used to create graphs<br>\n",
    "Seaborn: Used to create graphs as well but some\n",
    "        things are easier with seaborn like color scheme<br>\n",
    "Numpy: Used to manipulate numbers through different arithematic operations<br>\n",
    "Scipy: "
   ]
  },
  {
   "cell_type": "markdown",
   "metadata": {},
   "source": [
    "# The Data"
   ]
  },
  {
   "cell_type": "markdown",
   "metadata": {},
   "source": [
    "We were looking for data on ufc fighters and found that Yuan Tian had already scraped the ufc website to find the data in 2017. Therefore, we used the csv file that is public in his github page as the basis for our project. The data includes several things like the fighter's name, their wins, losses, drax, weight, stance and information about their striking, take downs, submissions and defense. "
   ]
  },
  {
   "cell_type": "code",
   "execution_count": 3,
   "metadata": {},
   "outputs": [
    {
     "data": {
      "text/html": [
       "<div>\n",
       "<style scoped>\n",
       "    .dataframe tbody tr th:only-of-type {\n",
       "        vertical-align: middle;\n",
       "    }\n",
       "\n",
       "    .dataframe tbody tr th {\n",
       "        vertical-align: top;\n",
       "    }\n",
       "\n",
       "    .dataframe thead th {\n",
       "        text-align: right;\n",
       "    }\n",
       "</style>\n",
       "<table border=\"1\" class=\"dataframe\">\n",
       "  <thead>\n",
       "    <tr style=\"text-align: right;\">\n",
       "      <th></th>\n",
       "      <th>fighter_id</th>\n",
       "      <th>name</th>\n",
       "      <th>win</th>\n",
       "      <th>lose</th>\n",
       "      <th>draw</th>\n",
       "      <th>nc</th>\n",
       "      <th>height</th>\n",
       "      <th>weight</th>\n",
       "      <th>reach</th>\n",
       "      <th>stance</th>\n",
       "      <th>dob</th>\n",
       "      <th>SLpM</th>\n",
       "      <th>Str_Acc</th>\n",
       "      <th>SApM</th>\n",
       "      <th>Str_Def</th>\n",
       "      <th>TD_Avg</th>\n",
       "      <th>TD_Acc</th>\n",
       "      <th>TD_Def</th>\n",
       "      <th>Sub_Avg</th>\n",
       "      <th>last_updated</th>\n",
       "    </tr>\n",
       "  </thead>\n",
       "  <tbody>\n",
       "    <tr>\n",
       "      <th>0</th>\n",
       "      <td>4</td>\n",
       "      <td>Rolando Dy</td>\n",
       "      <td>9</td>\n",
       "      <td>7</td>\n",
       "      <td>1</td>\n",
       "      <td>1</td>\n",
       "      <td>5' 8\"</td>\n",
       "      <td>145 lbs.</td>\n",
       "      <td>69\"</td>\n",
       "      <td>Orthodox</td>\n",
       "      <td>Aug 11, 1990</td>\n",
       "      <td>3.04</td>\n",
       "      <td>37%</td>\n",
       "      <td>4.47</td>\n",
       "      <td>52%</td>\n",
       "      <td>0.30</td>\n",
       "      <td>20%</td>\n",
       "      <td>68%</td>\n",
       "      <td>0.0</td>\n",
       "      <td>2018-11-21 19:35:14.677808</td>\n",
       "    </tr>\n",
       "    <tr>\n",
       "      <th>1</th>\n",
       "      <td>5</td>\n",
       "      <td>Jessica Eye</td>\n",
       "      <td>13</td>\n",
       "      <td>6</td>\n",
       "      <td>0</td>\n",
       "      <td>1</td>\n",
       "      <td>5' 6\"</td>\n",
       "      <td>125 lbs.</td>\n",
       "      <td>66\"</td>\n",
       "      <td>Orthodox</td>\n",
       "      <td>Jul 27, 1986</td>\n",
       "      <td>3.42</td>\n",
       "      <td>36%</td>\n",
       "      <td>3.32</td>\n",
       "      <td>59%</td>\n",
       "      <td>0.59</td>\n",
       "      <td>71%</td>\n",
       "      <td>60%</td>\n",
       "      <td>0.8</td>\n",
       "      <td>2018-11-21 19:35:17.495278</td>\n",
       "    </tr>\n",
       "    <tr>\n",
       "      <th>2</th>\n",
       "      <td>10</td>\n",
       "      <td>Cris Cyborg</td>\n",
       "      <td>20</td>\n",
       "      <td>1</td>\n",
       "      <td>0</td>\n",
       "      <td>1</td>\n",
       "      <td>5' 8\"</td>\n",
       "      <td>145 lbs.</td>\n",
       "      <td>68\"</td>\n",
       "      <td>Orthodox</td>\n",
       "      <td>Jul 09, 1985</td>\n",
       "      <td>7.02</td>\n",
       "      <td>52%</td>\n",
       "      <td>1.79</td>\n",
       "      <td>70%</td>\n",
       "      <td>0.85</td>\n",
       "      <td>62%</td>\n",
       "      <td>91%</td>\n",
       "      <td>0.3</td>\n",
       "      <td>2018-11-21 19:35:36.351918</td>\n",
       "    </tr>\n",
       "    <tr>\n",
       "      <th>3</th>\n",
       "      <td>11</td>\n",
       "      <td>Mike Kyle</td>\n",
       "      <td>19</td>\n",
       "      <td>9</td>\n",
       "      <td>1</td>\n",
       "      <td>2</td>\n",
       "      <td>6' 4\"</td>\n",
       "      <td>205 lbs.</td>\n",
       "      <td>77\"</td>\n",
       "      <td>Orthodox</td>\n",
       "      <td>Mar 31, 1980</td>\n",
       "      <td>4.50</td>\n",
       "      <td>51%</td>\n",
       "      <td>2.76</td>\n",
       "      <td>54%</td>\n",
       "      <td>1.55</td>\n",
       "      <td>62%</td>\n",
       "      <td>50%</td>\n",
       "      <td>0.9</td>\n",
       "      <td>2018-11-21 19:35:40.545685</td>\n",
       "    </tr>\n",
       "    <tr>\n",
       "      <th>4</th>\n",
       "      <td>15</td>\n",
       "      <td>Alptekin Ozkilic</td>\n",
       "      <td>9</td>\n",
       "      <td>4</td>\n",
       "      <td>0</td>\n",
       "      <td>0</td>\n",
       "      <td>5' 5\"</td>\n",
       "      <td>125 lbs.</td>\n",
       "      <td>65\"</td>\n",
       "      <td>Orthodox</td>\n",
       "      <td>Mar 27, 1986</td>\n",
       "      <td>3.81</td>\n",
       "      <td>32%</td>\n",
       "      <td>5.72</td>\n",
       "      <td>59%</td>\n",
       "      <td>4.21</td>\n",
       "      <td>58%</td>\n",
       "      <td>75%</td>\n",
       "      <td>0.0</td>\n",
       "      <td>2018-11-21 19:35:57.905297</td>\n",
       "    </tr>\n",
       "  </tbody>\n",
       "</table>\n",
       "</div>"
      ],
      "text/plain": [
       "   fighter_id              name  win  lose  draw  nc height    weight reach  \\\n",
       "0           4        Rolando Dy    9     7     1   1  5' 8\"  145 lbs.   69\"   \n",
       "1           5       Jessica Eye   13     6     0   1  5' 6\"  125 lbs.   66\"   \n",
       "2          10       Cris Cyborg   20     1     0   1  5' 8\"  145 lbs.   68\"   \n",
       "3          11         Mike Kyle   19     9     1   2  6' 4\"  205 lbs.   77\"   \n",
       "4          15  Alptekin Ozkilic    9     4     0   0  5' 5\"  125 lbs.   65\"   \n",
       "\n",
       "     stance           dob  SLpM Str_Acc  SApM Str_Def  TD_Avg TD_Acc TD_Def  \\\n",
       "0  Orthodox  Aug 11, 1990  3.04     37%  4.47     52%    0.30    20%    68%   \n",
       "1  Orthodox  Jul 27, 1986  3.42     36%  3.32     59%    0.59    71%    60%   \n",
       "2  Orthodox  Jul 09, 1985  7.02     52%  1.79     70%    0.85    62%    91%   \n",
       "3  Orthodox  Mar 31, 1980  4.50     51%  2.76     54%    1.55    62%    50%   \n",
       "4  Orthodox  Mar 27, 1986  3.81     32%  5.72     59%    4.21    58%    75%   \n",
       "\n",
       "   Sub_Avg                last_updated  \n",
       "0      0.0  2018-11-21 19:35:14.677808  \n",
       "1      0.8  2018-11-21 19:35:17.495278  \n",
       "2      0.3  2018-11-21 19:35:36.351918  \n",
       "3      0.9  2018-11-21 19:35:40.545685  \n",
       "4      0.0  2018-11-21 19:35:57.905297  "
      ]
     },
     "execution_count": 3,
     "metadata": {},
     "output_type": "execute_result"
    }
   ],
   "source": [
    "original_ufc = pd.read_csv(\"ufc_fighters.csv\")\n",
    "original_ufc.sort_values('name', ascending=False)\n",
    "\n",
    "count = 0\n",
    "tempname = []\n",
    "for i, rows in original_ufc.iterrows():\n",
    "    if type(rows['dob']) is str:\n",
    "        spl = rows['dob'].split(' ')\n",
    "        year = spl[2]\n",
    "        year = int(year)\n",
    "        total_fights = int(rows['win']) + int(rows['lose']) + int(rows['draw']) + int(rows['nc'])\n",
    "        if year > 1979:\n",
    "            if total_fights > 9:\n",
    "                tempname.append(rows)\n",
    "                updated_ufc = (original_ufc.name != rows['name'])\n",
    "\n",
    "updated_ufc = pd.DataFrame(tempname)\n",
    "updated_ufc = updated_ufc.dropna()\n",
    "updated_ufc = updated_ufc.reset_index()\n",
    "updated_ufc = updated_ufc.drop('index', 1)\n",
    "updated_ufc.head()"
   ]
  },
  {
   "cell_type": "markdown",
   "metadata": {},
   "source": [
    "When we recieved the data and looked at it, we knew that we would have to trim the data. UFC has been around for more than two decades now so the number of fighters that have founght in the octagon would be too much. Therefore, we started to remove some of the fighters from the list. The first fighter we deleted were the old ones. We wanted to see how fighter fight and who the best amongst them are. Therefore, we deleted the fighters that were older than 40. With the date of birth present, this task was not difficult. We also dropped fighters who did not have a date of birth listed so there would be no way for us to find out when they were fighting. In the UFC, it takes a while for people to take notice. To become a good fighter one needs to be have lots of fight under their with significant amount of wins. We decided to delet the fighters that had less than 10 fights so that these fighters are not amatures. Lastly, we wanted the data to be clean and wanted all the points to be present. So we had to delet any values that were not present in any of the columns."
   ]
  },
  {
   "cell_type": "code",
   "execution_count": 4,
   "metadata": {},
   "outputs": [],
   "source": [
    "tot_fights = []\n",
    "for i, rows in updated_ufc.iterrows():\n",
    "    total_fights = int(rows['win']) + int(rows['lose']) + int(rows['draw']) + int(rows['nc'])\n",
    "    tot_fights.append(total_fights)\n",
    "\n",
    "updated_ufc[\"total_fights\"] = tot_fights"
   ]
  },
  {
   "cell_type": "markdown",
   "metadata": {},
   "source": [
    "A new column is created to look at the total wins for each fighter. This category might be use later on when we are trying to see who the best fighters are."
   ]
  },
  {
   "cell_type": "code",
   "execution_count": 5,
   "metadata": {},
   "outputs": [],
   "source": [
    "def p2f(x):\n",
    "    return float(x.strip('%'))/100"
   ]
  },
  {
   "cell_type": "markdown",
   "metadata": {},
   "source": [
    "The purpose of this functio is to be able to convert a percentage into a value that can be used later in arithematic operation with other values."
   ]
  },
  {
   "cell_type": "code",
   "execution_count": 5,
   "metadata": {},
   "outputs": [
    {
     "data": {
      "text/html": [
       "<div>\n",
       "<style scoped>\n",
       "    .dataframe tbody tr th:only-of-type {\n",
       "        vertical-align: middle;\n",
       "    }\n",
       "\n",
       "    .dataframe tbody tr th {\n",
       "        vertical-align: top;\n",
       "    }\n",
       "\n",
       "    .dataframe thead th {\n",
       "        text-align: right;\n",
       "    }\n",
       "</style>\n",
       "<table border=\"1\" class=\"dataframe\">\n",
       "  <thead>\n",
       "    <tr style=\"text-align: right;\">\n",
       "      <th></th>\n",
       "      <th>fighter_id</th>\n",
       "      <th>name</th>\n",
       "      <th>win</th>\n",
       "      <th>lose</th>\n",
       "      <th>draw</th>\n",
       "      <th>nc</th>\n",
       "      <th>height</th>\n",
       "      <th>weight</th>\n",
       "      <th>reach</th>\n",
       "      <th>stance</th>\n",
       "      <th>...</th>\n",
       "      <th>Str_Def</th>\n",
       "      <th>TD_Avg</th>\n",
       "      <th>TD_Acc</th>\n",
       "      <th>TD_Def</th>\n",
       "      <th>Sub_Avg</th>\n",
       "      <th>last_updated</th>\n",
       "      <th>total_fights</th>\n",
       "      <th>str_val</th>\n",
       "      <th>grap_val</th>\n",
       "      <th>def_val</th>\n",
       "    </tr>\n",
       "  </thead>\n",
       "  <tbody>\n",
       "    <tr>\n",
       "      <th>0</th>\n",
       "      <td>4</td>\n",
       "      <td>Rolando Dy</td>\n",
       "      <td>9</td>\n",
       "      <td>7</td>\n",
       "      <td>1</td>\n",
       "      <td>1</td>\n",
       "      <td>5' 8\"</td>\n",
       "      <td>145 lbs.</td>\n",
       "      <td>69\"</td>\n",
       "      <td>Orthodox</td>\n",
       "      <td>...</td>\n",
       "      <td>52%</td>\n",
       "      <td>0.30</td>\n",
       "      <td>20%</td>\n",
       "      <td>68%</td>\n",
       "      <td>0.0</td>\n",
       "      <td>2018-11-21 19:35:14.677808</td>\n",
       "      <td>18</td>\n",
       "      <td>-0.222</td>\n",
       "      <td>-0.120</td>\n",
       "      <td>-0.720</td>\n",
       "    </tr>\n",
       "    <tr>\n",
       "      <th>1</th>\n",
       "      <td>5</td>\n",
       "      <td>Jessica Eye</td>\n",
       "      <td>13</td>\n",
       "      <td>6</td>\n",
       "      <td>0</td>\n",
       "      <td>1</td>\n",
       "      <td>5' 6\"</td>\n",
       "      <td>125 lbs.</td>\n",
       "      <td>66\"</td>\n",
       "      <td>Orthodox</td>\n",
       "      <td>...</td>\n",
       "      <td>59%</td>\n",
       "      <td>0.59</td>\n",
       "      <td>71%</td>\n",
       "      <td>60%</td>\n",
       "      <td>0.8</td>\n",
       "      <td>2018-11-21 19:35:17.495278</td>\n",
       "      <td>20</td>\n",
       "      <td>1.908</td>\n",
       "      <td>3.763</td>\n",
       "      <td>6.307</td>\n",
       "    </tr>\n",
       "    <tr>\n",
       "      <th>2</th>\n",
       "      <td>10</td>\n",
       "      <td>Cris Cyborg</td>\n",
       "      <td>20</td>\n",
       "      <td>1</td>\n",
       "      <td>0</td>\n",
       "      <td>1</td>\n",
       "      <td>5' 8\"</td>\n",
       "      <td>145 lbs.</td>\n",
       "      <td>68\"</td>\n",
       "      <td>Orthodox</td>\n",
       "      <td>...</td>\n",
       "      <td>70%</td>\n",
       "      <td>0.85</td>\n",
       "      <td>62%</td>\n",
       "      <td>91%</td>\n",
       "      <td>0.3</td>\n",
       "      <td>2018-11-21 19:35:36.351918</td>\n",
       "      <td>22</td>\n",
       "      <td>10.660</td>\n",
       "      <td>12.710</td>\n",
       "      <td>33.005</td>\n",
       "    </tr>\n",
       "    <tr>\n",
       "      <th>3</th>\n",
       "      <td>11</td>\n",
       "      <td>Mike Kyle</td>\n",
       "      <td>19</td>\n",
       "      <td>9</td>\n",
       "      <td>1</td>\n",
       "      <td>2</td>\n",
       "      <td>6' 4\"</td>\n",
       "      <td>205 lbs.</td>\n",
       "      <td>77\"</td>\n",
       "      <td>Orthodox</td>\n",
       "      <td>...</td>\n",
       "      <td>54%</td>\n",
       "      <td>1.55</td>\n",
       "      <td>62%</td>\n",
       "      <td>50%</td>\n",
       "      <td>0.9</td>\n",
       "      <td>2018-11-21 19:35:40.545685</td>\n",
       "      <td>31</td>\n",
       "      <td>3.774</td>\n",
       "      <td>4.588</td>\n",
       "      <td>7.696</td>\n",
       "    </tr>\n",
       "    <tr>\n",
       "      <th>4</th>\n",
       "      <td>15</td>\n",
       "      <td>Alptekin Ozkilic</td>\n",
       "      <td>9</td>\n",
       "      <td>4</td>\n",
       "      <td>0</td>\n",
       "      <td>0</td>\n",
       "      <td>5' 5\"</td>\n",
       "      <td>125 lbs.</td>\n",
       "      <td>65\"</td>\n",
       "      <td>Orthodox</td>\n",
       "      <td>...</td>\n",
       "      <td>59%</td>\n",
       "      <td>4.21</td>\n",
       "      <td>58%</td>\n",
       "      <td>75%</td>\n",
       "      <td>0.0</td>\n",
       "      <td>2018-11-21 19:35:57.905297</td>\n",
       "      <td>13</td>\n",
       "      <td>1.248</td>\n",
       "      <td>2.262</td>\n",
       "      <td>5.226</td>\n",
       "    </tr>\n",
       "  </tbody>\n",
       "</table>\n",
       "<p>5 rows × 24 columns</p>\n",
       "</div>"
      ],
      "text/plain": [
       "   fighter_id              name  win  lose  draw  nc height    weight reach  \\\n",
       "0           4        Rolando Dy    9     7     1   1  5' 8\"  145 lbs.   69\"   \n",
       "1           5       Jessica Eye   13     6     0   1  5' 6\"  125 lbs.   66\"   \n",
       "2          10       Cris Cyborg   20     1     0   1  5' 8\"  145 lbs.   68\"   \n",
       "3          11         Mike Kyle   19     9     1   2  6' 4\"  205 lbs.   77\"   \n",
       "4          15  Alptekin Ozkilic    9     4     0   0  5' 5\"  125 lbs.   65\"   \n",
       "\n",
       "     stance  ... Str_Def  TD_Avg TD_Acc  TD_Def Sub_Avg  \\\n",
       "0  Orthodox  ...     52%    0.30    20%     68%     0.0   \n",
       "1  Orthodox  ...     59%    0.59    71%     60%     0.8   \n",
       "2  Orthodox  ...     70%    0.85    62%     91%     0.3   \n",
       "3  Orthodox  ...     54%    1.55    62%     50%     0.9   \n",
       "4  Orthodox  ...     59%    4.21    58%     75%     0.0   \n",
       "\n",
       "                 last_updated total_fights str_val  grap_val def_val  \n",
       "0  2018-11-21 19:35:14.677808           18  -0.222    -0.120  -0.720  \n",
       "1  2018-11-21 19:35:17.495278           20   1.908     3.763   6.307  \n",
       "2  2018-11-21 19:35:36.351918           22  10.660    12.710  33.005  \n",
       "3  2018-11-21 19:35:40.545685           31   3.774     4.588   7.696  \n",
       "4  2018-11-21 19:35:57.905297           13   1.248     2.262   5.226  \n",
       "\n",
       "[5 rows x 24 columns]"
      ]
     },
     "execution_count": 5,
     "metadata": {},
     "output_type": "execute_result"
    }
   ],
   "source": [
    "str_val = []\n",
    "grap_val = []\n",
    "def_val = []\n",
    "for i, rows in updated_ufc.iterrows():\n",
    "    str_val.append(float((rows[\"win\"]*1.1) -(rows[\"lose\"]*1.5)) * p2f(rows[\"Str_Acc\"]))\n",
    "    grap_val.append(float((rows[\"win\"]*1.1) -(rows[\"lose\"]*1.5)) * p2f(rows[\"TD_Acc\"]))\n",
    "    #should probably add some weight to sub_avg\n",
    "    #there are a lots of 0% for TD_Acc. We might have to remove those fighters.\n",
    "    def_val.append(float((rows[\"win\"]*1.1) -(rows[\"lose\"]*1.5)) * (p2f(rows[\"Str_Def\"]) + p2f(rows[\"TD_Def\"])))\n",
    "    \n",
    "updated_ufc['str_val'] = str_val\n",
    "updated_ufc['grap_val'] = grap_val\n",
    "updated_ufc['def_val'] = def_val\n",
    "updated_ufc.head()"
   ]
  },
  {
   "cell_type": "markdown",
   "metadata": {},
   "source": [
    "Created three new columns in the dataframe. <br>\n",
    "<br>\n",
    "1) The first column calculates the striking values by looking at striking accuracy but also includes the fighter's record. This will allow us to sort out the best fighters later on. Best fighters do not just have good statistics but also have a winning record with a lot of fights under their belt. <br>\n",
    "<br>\n",
    "2) The grappling column also takes into account wins and losses while also including take down accuracy as well as submission average. While take down accuracy is a good sign of a good grappler, submission average just boosts the validity of these fighters that are good on the ground.<br>\n",
    "<br>\n",
    "3) Last column that was added was defense. We looked at wins, losses, strikes defended and take down defended to create the value for this column. A good defensive fighter can not only dodge strikes but also refuses to be taken down against a good grappler."
   ]
  },
  {
   "cell_type": "code",
   "execution_count": 6,
   "metadata": {},
   "outputs": [],
   "source": [
    "updated_ufc['weight'] = updated_ufc['weight'].map(lambda x: x.rstrip(' lbs.'))\n",
    "pd.to_numeric(updated_ufc['weight'])\n",
    "updated_ufc['weight'] = updated_ufc['weight'].astype(int)"
   ]
  },
  {
   "cell_type": "code",
   "execution_count": 7,
   "metadata": {},
   "outputs": [],
   "source": [
    "#Lightweight\n",
    "light_df = updated_ufc[updated_ufc['weight']==155]\n",
    "\n",
    "#Welterweight\n",
    "welter_df = updated_ufc[updated_ufc['weight'] == 170]\n",
    "\n",
    "#Middleweight\n",
    "middle_df = updated_ufc[updated_ufc['weight'] == 185]\n",
    "\n",
    "#Light Heavyweight\n",
    "liheavy_df = updated_ufc[updated_ufc['weight'] == 205]\n",
    "\n",
    "#Heavyweight\n",
    "heavy_df = updated_ufc[updated_ufc['weight'] > 205 ]\n",
    "\n",
    "#Orthodox\n",
    "orth_df = updated_ufc[updated_ufc['stance'] == 'Orthodox']\n",
    "#orth_df = orth_df.sort_values(by=['grap_val'], ascending=False)\n",
    "#Southpaw\n",
    "south_df = updated_ufc[updated_ufc['stance'] == 'Southpaw']\n",
    "\n",
    "#Switch\n",
    "switch_df = updated_ufc[updated_ufc['stance'] == 'Switch']\n"
   ]
  },
  {
   "cell_type": "code",
   "execution_count": 8,
   "metadata": {},
   "outputs": [],
   "source": [
    "def linereg_func(x_val, y_val, title):\n",
    "    slope, intercept, r_value, p_value, std_err = stats.linregress(x_val, y_val)\n",
    "\n",
    "    plt.plot(x_val, y_val, 'o')\n",
    "\n",
    "    plt.xlabel('Grappling')\n",
    "    plt.ylabel('Striking')\n",
    "    plt.title(title)\n",
    "    x=x_val\n",
    "    plt.plot(x, intercept + slope*x, 'r', label='fitted line')"
   ]
  },
  {
   "cell_type": "markdown",
   "metadata": {},
   "source": [
    "We wanted to look at plots for various things. This function plots the graph of striking as the y value and grappling as the x value. The graph is supposed to show the distribution of fighters in each of the different categories. Moreover, it also graphs a line of linear regression showing the relationship between grappling and strinking of the fighters. It show where most of the fighters average out and can also predict where the new fighters might be situated."
   ]
  },
  {
   "cell_type": "code",
   "execution_count": 9,
   "metadata": {},
   "outputs": [
    {
     "data": {
      "image/png": "[encoded data removed]",
      "text/plain": [
       "<Figure size 432x288 with 1 Axes>"
      ]
     },
     "metadata": {
      "needs_background": "light"
     },
     "output_type": "display_data"
    }
   ],
   "source": [
    "linereg_func(light_df.grap_val, light_df.str_val, \"Lightweight\")\n"
   ]
  },
  {
   "cell_type": "code",
   "execution_count": 10,
   "metadata": {},
   "outputs": [
    {
     "data": {
      "image/png": "[encoded data removed]",
      "text/plain": [
       "<Figure size 432x288 with 1 Axes>"
      ]
     },
     "metadata": {
      "needs_background": "light"
     },
     "output_type": "display_data"
    }
   ],
   "source": [
    "linereg_func(welter_df.grap_val, welter_df.str_val, \"Welterweight\")\n"
   ]
  },
  {
   "cell_type": "code",
   "execution_count": 11,
   "metadata": {},
   "outputs": [
    {
     "data": {
      "image/png": "[encoded data removed]",
      "text/plain": [
       "<Figure size 432x288 with 1 Axes>"
      ]
     },
     "metadata": {
      "needs_background": "light"
     },
     "output_type": "display_data"
    }
   ],
   "source": [
    "linereg_func(middle_df.grap_val, middle_df.str_val, \"Middleweight\")"
   ]
  },
  {
   "cell_type": "code",
   "execution_count": 12,
   "metadata": {},
   "outputs": [
    {
     "data": {
      "image/png": "[encoded data removed]",
      "text/plain": [
       "<Figure size 432x288 with 1 Axes>"
      ]
     },
     "metadata": {
      "needs_background": "light"
     },
     "output_type": "display_data"
    }
   ],
   "source": [
    "linereg_func(liheavy_df.grap_val, liheavy_df.str_val, \"Light Heavyweight\")"
   ]
  },
  {
   "cell_type": "code",
   "execution_count": 13,
   "metadata": {},
   "outputs": [
    {
     "data": {
      "image/png": "[encoded data removed]",
      "text/plain": [
       "<Figure size 432x288 with 1 Axes>"
      ]
     },
     "metadata": {
      "needs_background": "light"
     },
     "output_type": "display_data"
    }
   ],
   "source": [
    "linereg_func(heavy_df.grap_val, heavy_df.str_val, \"Heavyweight\")"
   ]
  },
  {
   "cell_type": "code",
   "execution_count": 14,
   "metadata": {},
   "outputs": [
    {
     "data": {
      "text/plain": [
       "Text(0.5, 1.0, 'Orthodox')"
      ]
     },
     "execution_count": 14,
     "metadata": {},
     "output_type": "execute_result"
    },
    {
     "data": {
      "image/png": "[encoded data removed]",
      "text/plain": [
       "<Figure size 432x288 with 1 Axes>"
      ]
     },
     "metadata": {
      "needs_background": "light"
     },
     "output_type": "display_data"
    }
   ],
   "source": [
    "plt.scatter(orth_df['grap_val'], orth_df['str_val'])\n",
    "plt.xlabel('Grappling')\n",
    "plt.ylabel('Striking')\n",
    "plt.title('Orthodox')"
   ]
  },
  {
   "cell_type": "code",
   "execution_count": 15,
   "metadata": {},
   "outputs": [
    {
     "data": {
      "text/plain": [
       "Text(0.5, 1.0, 'Southpaw')"
      ]
     },
     "execution_count": 15,
     "metadata": {},
     "output_type": "execute_result"
    },
    {
     "data": {
      "image/png": "[encoded data removed]",
      "text/plain": [
       "<Figure size 432x288 with 1 Axes>"
      ]
     },
     "metadata": {
      "needs_background": "light"
     },
     "output_type": "display_data"
    }
   ],
   "source": [
    "plt.scatter(south_df['grap_val'], south_df['str_val'])\n",
    "plt.xlabel('Grappling')\n",
    "plt.ylabel('Striking')\n",
    "plt.title('Southpaw')"
   ]
  },
  {
   "cell_type": "code",
   "execution_count": 16,
   "metadata": {},
   "outputs": [
    {
     "data": {
      "text/plain": [
       "Text(0.5, 1.0, 'Switch')"
      ]
     },
     "execution_count": 16,
     "metadata": {},
     "output_type": "execute_result"
    },
    {
     "data": {
      "image/png": "[encoded data removed]",
      "text/plain": [
       "<Figure size 432x288 with 1 Axes>"
      ]
     },
     "metadata": {
      "needs_background": "light"
     },
     "output_type": "display_data"
    }
   ],
   "source": [
    "plt.scatter(switch_df['grap_val'], switch_df['str_val'])\n",
    "plt.xlabel('Grappling')\n",
    "plt.ylabel('Striking')\n",
    "plt.title('Switch')"
   ]
  },
  {
   "cell_type": "code",
   "execution_count": 25,
   "metadata": {},
   "outputs": [
    {
     "data": {
      "image/png": "[encoded data removed]",
      "text/plain": [
       "<Figure size 432x288 with 1 Axes>"
      ]
     },
     "metadata": {
      "needs_background": "light"
     },
     "output_type": "display_data"
    }
   ],
   "source": [
    "ax = sns.scatterplot(x=\"grap_val\", y=\"str_val\", hue=\"stance\", data=updated_ufc)\n"
   ]
  },
  {
   "cell_type": "code",
   "execution_count": 18,
   "metadata": {},
   "outputs": [],
   "source": [
    "def add_overall(df):\n",
    "    overall = []\n",
    "    for index, rows in df.iterrows():\n",
    "        if(rows[\"weight\"] >= 155):\n",
    "            overall.append((rows['str_val']*.33) + (rows['grap_val']*.33) + (rows['def_val']*.33))\n",
    "        else:\n",
    "            overall.append(np.nan)\n",
    "\n",
    "    df[\"overall_rating\"] = overall\n",
    "    df= df.sort_values(by='overall_rating', ascending=False)\n",
    "    df = df.dropna()\n",
    "    return df\n"
   ]
  },
  {
   "cell_type": "code",
   "execution_count": 19,
   "metadata": {},
   "outputs": [
    {
     "data": {
      "text/html": [
       "<div>\n",
       "<style scoped>\n",
       "    .dataframe tbody tr th:only-of-type {\n",
       "        vertical-align: middle;\n",
       "    }\n",
       "\n",
       "    .dataframe tbody tr th {\n",
       "        vertical-align: top;\n",
       "    }\n",
       "\n",
       "    .dataframe thead th {\n",
       "        text-align: right;\n",
       "    }\n",
       "</style>\n",
       "<table border=\"1\" class=\"dataframe\">\n",
       "  <thead>\n",
       "    <tr style=\"text-align: right;\">\n",
       "      <th></th>\n",
       "      <th>Weight Class</th>\n",
       "      <th>Count</th>\n",
       "    </tr>\n",
       "  </thead>\n",
       "  <tbody>\n",
       "    <tr>\n",
       "      <th>0</th>\n",
       "      <td>Lightweight</td>\n",
       "      <td>30</td>\n",
       "    </tr>\n",
       "    <tr>\n",
       "      <th>1</th>\n",
       "      <td>Welterweight</td>\n",
       "      <td>32</td>\n",
       "    </tr>\n",
       "    <tr>\n",
       "      <th>2</th>\n",
       "      <td>Middleweight</td>\n",
       "      <td>14</td>\n",
       "    </tr>\n",
       "    <tr>\n",
       "      <th>3</th>\n",
       "      <td>Light Heavyweight</td>\n",
       "      <td>13</td>\n",
       "    </tr>\n",
       "    <tr>\n",
       "      <th>4</th>\n",
       "      <td>Heavyweight</td>\n",
       "      <td>11</td>\n",
       "    </tr>\n",
       "  </tbody>\n",
       "</table>\n",
       "</div>"
      ],
      "text/plain": [
       "        Weight Class  Count\n",
       "0        Lightweight     30\n",
       "1       Welterweight     32\n",
       "2       Middleweight     14\n",
       "3  Light Heavyweight     13\n",
       "4        Heavyweight     11"
      ]
     },
     "execution_count": 19,
     "metadata": {},
     "output_type": "execute_result"
    }
   ],
   "source": [
    "\n",
    "\n",
    "count_light =count_welter =count_middle = count_liheavy = count_heavy = 0\n",
    "ufc_weight = add_overall(updated_ufc)\n",
    "ufc_weight = ufc_weight.head(100)\n",
    "\n",
    "for index, rows in ufc_weight.iterrows():\n",
    "    if (rows[\"weight\"] == 155):\n",
    "        count_light +=1\n",
    "    elif (rows[\"weight\"] == 170):\n",
    "        count_welter += 1\n",
    "    elif (rows[\"weight\"] == 185):\n",
    "        count_middle += 1\n",
    "    elif (rows[\"weight\"] == 205):\n",
    "        count_liheavy += 1\n",
    "    elif (rows[\"weight\"] > 205):\n",
    "        count_heavy += 1\n",
    "        \n",
    "weight_class = pd.DataFrame({\"Weight Class\" :[\"Lightweight\", \"Welterweight\", \"Middleweight\", \"Light Heavyweight\", \"Heavyweight\"],\n",
    "                            \"Count\":[count_light, count_welter, count_middle, count_liheavy, count_heavy]})\n",
    "weight_class\n"
   ]
  },
  {
   "cell_type": "code",
   "execution_count": 20,
   "metadata": {},
   "outputs": [
    {
     "data": {
      "image/png": "[encoded data removed]",
      "text/plain": [
       "<Figure size 576x432 with 1 Axes>"
      ]
     },
     "metadata": {
      "needs_background": "light"
     },
     "output_type": "display_data"
    }
   ],
   "source": [
    "plt.figure(figsize=(8,6))\n",
    "plt.title(\"Top 100 player Divided by Weight Class\", fontsize=16)\n",
    "sns.barplot(data=weight_class, x='Weight Class', y='Count')\n",
    "plt.show()"
   ]
  },
  {
   "cell_type": "code",
   "execution_count": null,
   "metadata": {},
   "outputs": [],
   "source": []
  },
  {
   "cell_type": "code",
   "execution_count": null,
   "metadata": {},
   "outputs": [],
   "source": []
  }
 ],
 "metadata": {
  "kernelspec": {
   "display_name": "Python 3",
   "language": "python",
   "name": "python3"
  },
  "language_info": {
   "codemirror_mode": {
    "name": "ipython",
    "version": 3
   },
   "file_extension": ".py",
   "mimetype": "text/x-python",
   "name": "python",
   "nbconvert_exporter": "python",
   "pygments_lexer": "ipython3",
   "version": "3.7.3"
  }
 },
 "nbformat": 4,
 "nbformat_minor": 2
}
